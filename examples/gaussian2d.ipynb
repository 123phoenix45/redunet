{
 "cells": [
  {
   "cell_type": "code",
   "execution_count": 1,
   "metadata": {},
   "outputs": [],
   "source": [
    "import os\n",
    "os.chdir('../')"
   ]
  },
  {
   "cell_type": "code",
   "execution_count": 2,
   "metadata": {},
   "outputs": [],
   "source": [
    "from redunet import ReduNetVector\n",
    "import utils_example as ue"
   ]
  },
  {
   "cell_type": "markdown",
   "metadata": {},
   "source": [
    "## Hyperparameters"
   ]
  },
  {
   "cell_type": "markdown",
   "metadata": {},
   "source": [
    "We first set the hyperparameters for our data:\n",
    "- `data_dim`: dimension of the data\n",
    "- `dataset`: choice of dataset (any option 1-8)\n",
    "- `train_noise`: scale of gaussian noise added to training data\n",
    "- `test_noise`: scale of gaussian noise added to testing data\n",
    "- `train_samples`: number of training samples\n",
    "- `test_samples`: number of testing samples"
   ]
  },
  {
   "cell_type": "code",
   "execution_count": 3,
   "metadata": {},
   "outputs": [],
   "source": [
    "data_dim = 2\n",
    "dataset = 1  # can be 1 to 8\n",
    "train_noise = 0.1\n",
    "test_noise = 0.1\n",
    "train_samples = 100\n",
    "test_samples = 100"
   ]
  },
  {
   "cell_type": "markdown",
   "metadata": {},
   "source": [
    "Then for ReduNet:\n",
    "- `num_layers`: number of layers\n",
    "- `eta`: step size $\\eta$\n",
    "- `eps`: distortion $\\epsilon^2$"
   ]
  },
  {
   "cell_type": "code",
   "execution_count": 4,
   "metadata": {},
   "outputs": [],
   "source": [
    "num_layers = 200\n",
    "eta = 0.5\n",
    "eps = 0.1"
   ]
  },
  {
   "cell_type": "markdown",
   "metadata": {},
   "source": [
    "## Data"
   ]
  },
  {
   "cell_type": "markdown",
   "metadata": {},
   "source": [
    "Using `generate_2d(.)` function, we sample training and testing data from a Gaussian distribution. We also preprocess the data by normalizing them with $\\ell^2$ norm. "
   ]
  },
  {
   "cell_type": "code",
   "execution_count": 5,
   "metadata": {
    "scrolled": true
   },
   "outputs": [],
   "source": [
    "X_train, y_train, num_classes = ue.generate_2d(dataset, train_noise, train_samples) # train\n",
    "X_test, y_test, num_classes = ue.generate_2d(dataset, test_noise, test_samples) # test"
   ]
  },
  {
   "cell_type": "markdown",
   "metadata": {},
   "source": [
    "## Model"
   ]
  },
  {
   "cell_type": "markdown",
   "metadata": {},
   "source": [
    "We then initialize our network by running `init` method, which takes in training data `X_train` and labels `y_train`. It also outputs the representations `Z_train`. While constructing, our network also computes the `total_loss`, `discrimn_loss` and `compress_loss`. Please refer to our paper for its formulation. "
   ]
  },
  {
   "cell_type": "code",
   "execution_count": 6,
   "metadata": {},
   "outputs": [
    {
     "name": "stdout",
     "output_type": "stream",
     "text": [
      "0 | 0.830890 2.397769 1.566879\n",
      "1 | 0.859477 2.397770 1.538293\n",
      "2 | 0.874584 2.397772 1.523188\n",
      "3 | 0.874156 2.397774 1.523618\n",
      "4 | 0.873763 2.397776 1.524013\n",
      "5 | 0.873449 2.397779 1.524330\n",
      "6 | 0.873269 2.397780 1.524511\n",
      "7 | 0.873206 2.397782 1.524576\n",
      "8 | 0.873192 2.397784 1.524592\n",
      "9 | 0.873190 2.397786 1.524596\n",
      "10 | 0.873191 2.397788 1.524597\n",
      "11 | 0.873193 2.397789 1.524597\n",
      "12 | 0.873194 2.397791 1.524597\n",
      "13 | 0.873196 2.397793 1.524597\n",
      "14 | 0.873198 2.397795 1.524597\n",
      "15 | 0.873199 2.397796 1.524597\n",
      "16 | 0.873201 2.397798 1.524597\n",
      "17 | 0.873202 2.397799 1.524597\n",
      "18 | 0.873204 2.397801 1.524597\n",
      "19 | 0.873206 2.397803 1.524597\n",
      "20 | 0.873207 2.397804 1.524597\n",
      "21 | 0.873209 2.397805 1.524597\n",
      "22 | 0.873210 2.397807 1.524597\n",
      "23 | 0.873211 2.397809 1.524597\n",
      "24 | 0.873213 2.397810 1.524597\n",
      "25 | 0.873214 2.397811 1.524597\n",
      "26 | 0.873216 2.397813 1.524597\n",
      "27 | 0.873217 2.397814 1.524597\n",
      "28 | 0.873218 2.397815 1.524597\n",
      "29 | 0.873220 2.397817 1.524597\n",
      "30 | 0.873221 2.397818 1.524597\n",
      "31 | 0.873222 2.397820 1.524597\n",
      "32 | 0.873223 2.397820 1.524597\n",
      "33 | 0.873225 2.397822 1.524597\n",
      "34 | 0.873226 2.397823 1.524597\n",
      "35 | 0.873227 2.397824 1.524597\n",
      "36 | 0.873228 2.397825 1.524597\n",
      "37 | 0.873230 2.397827 1.524597\n",
      "38 | 0.873231 2.397828 1.524597\n",
      "39 | 0.873231 2.397829 1.524597\n",
      "40 | 0.873233 2.397830 1.524597\n",
      "41 | 0.873234 2.397831 1.524597\n",
      "42 | 0.873235 2.397832 1.524597\n",
      "43 | 0.873236 2.397833 1.524597\n",
      "44 | 0.873237 2.397834 1.524597\n",
      "45 | 0.873238 2.397835 1.524597\n",
      "46 | 0.873239 2.397836 1.524597\n",
      "47 | 0.873240 2.397837 1.524597\n",
      "48 | 0.873241 2.397838 1.524597\n",
      "49 | 0.873242 2.397839 1.524597\n",
      "50 | 0.873243 2.397840 1.524597\n",
      "51 | 0.873243 2.397840 1.524597\n",
      "52 | 0.873244 2.397841 1.524597\n",
      "53 | 0.873245 2.397842 1.524597\n",
      "54 | 0.873246 2.397843 1.524597\n",
      "55 | 0.873247 2.397844 1.524597\n",
      "56 | 0.873248 2.397845 1.524597\n",
      "57 | 0.873249 2.397846 1.524597\n",
      "58 | 0.873250 2.397847 1.524597\n",
      "59 | 0.873250 2.397847 1.524597\n",
      "60 | 0.873251 2.397848 1.524597\n",
      "61 | 0.873252 2.397849 1.524597\n",
      "62 | 0.873253 2.397850 1.524597\n",
      "63 | 0.873253 2.397851 1.524597\n",
      "64 | 0.873255 2.397851 1.524597\n",
      "65 | 0.873255 2.397852 1.524597\n",
      "66 | 0.873256 2.397853 1.524597\n",
      "67 | 0.873256 2.397853 1.524597\n",
      "68 | 0.873257 2.397854 1.524597\n",
      "69 | 0.873258 2.397855 1.524597\n",
      "70 | 0.873258 2.397855 1.524597\n",
      "71 | 0.873259 2.397856 1.524597\n",
      "72 | 0.873260 2.397857 1.524597\n",
      "73 | 0.873260 2.397857 1.524597\n",
      "74 | 0.873261 2.397858 1.524597\n",
      "75 | 0.873262 2.397859 1.524597\n",
      "76 | 0.873262 2.397859 1.524597\n",
      "77 | 0.873263 2.397860 1.524597\n",
      "78 | 0.873264 2.397861 1.524597\n",
      "79 | 0.873264 2.397861 1.524597\n",
      "80 | 0.873264 2.397861 1.524597\n",
      "81 | 0.873265 2.397862 1.524597\n",
      "82 | 0.873266 2.397863 1.524597\n",
      "83 | 0.873266 2.397863 1.524597\n",
      "84 | 0.873267 2.397864 1.524597\n",
      "85 | 0.873267 2.397864 1.524597\n",
      "86 | 0.873268 2.397865 1.524597\n",
      "87 | 0.873268 2.397865 1.524597\n",
      "88 | 0.873269 2.397866 1.524597\n",
      "89 | 0.873269 2.397866 1.524597\n",
      "90 | 0.873270 2.397867 1.524597\n",
      "91 | 0.873270 2.397867 1.524597\n",
      "92 | 0.873271 2.397868 1.524597\n",
      "93 | 0.873271 2.397868 1.524597\n",
      "94 | 0.873272 2.397869 1.524597\n",
      "95 | 0.873272 2.397869 1.524597\n",
      "96 | 0.873273 2.397870 1.524597\n",
      "97 | 0.873273 2.397870 1.524597\n",
      "98 | 0.873273 2.397870 1.524597\n",
      "99 | 0.873273 2.397871 1.524597\n",
      "100 | 0.873274 2.397871 1.524597\n",
      "101 | 0.873274 2.397871 1.524597\n",
      "102 | 0.873275 2.397872 1.524597\n",
      "103 | 0.873275 2.397872 1.524597\n",
      "104 | 0.873275 2.397872 1.524597\n",
      "105 | 0.873276 2.397873 1.524597\n",
      "106 | 0.873276 2.397873 1.524597\n",
      "107 | 0.873277 2.397874 1.524597\n",
      "108 | 0.873277 2.397874 1.524597\n",
      "109 | 0.873277 2.397874 1.524597\n",
      "110 | 0.873278 2.397875 1.524597\n",
      "111 | 0.873278 2.397875 1.524597\n",
      "112 | 0.873278 2.397875 1.524597\n",
      "113 | 0.873279 2.397876 1.524597\n",
      "114 | 0.873279 2.397876 1.524597\n",
      "115 | 0.873279 2.397877 1.524597\n",
      "116 | 0.873280 2.397877 1.524597\n",
      "117 | 0.873280 2.397877 1.524597\n",
      "118 | 0.873281 2.397877 1.524597\n",
      "119 | 0.873281 2.397878 1.524597\n",
      "120 | 0.873281 2.397878 1.524597\n",
      "121 | 0.873281 2.397878 1.524597\n",
      "122 | 0.873281 2.397878 1.524597\n",
      "123 | 0.873281 2.397879 1.524597\n",
      "124 | 0.873282 2.397879 1.524597\n",
      "125 | 0.873282 2.397879 1.524597\n",
      "126 | 0.873283 2.397880 1.524597\n",
      "127 | 0.873283 2.397880 1.524597\n",
      "128 | 0.873283 2.397880 1.524597\n",
      "129 | 0.873283 2.397880 1.524597\n",
      "130 | 0.873284 2.397881 1.524597\n",
      "131 | 0.873284 2.397881 1.524597\n",
      "132 | 0.873284 2.397881 1.524597\n",
      "133 | 0.873284 2.397881 1.524597\n",
      "134 | 0.873284 2.397882 1.524597\n",
      "135 | 0.873285 2.397882 1.524597\n",
      "136 | 0.873285 2.397882 1.524597\n",
      "137 | 0.873285 2.397882 1.524597\n",
      "138 | 0.873285 2.397882 1.524597\n",
      "139 | 0.873285 2.397882 1.524597\n",
      "140 | 0.873286 2.397883 1.524597\n",
      "141 | 0.873286 2.397883 1.524597\n",
      "142 | 0.873286 2.397883 1.524597\n",
      "143 | 0.873286 2.397883 1.524597\n",
      "144 | 0.873287 2.397884 1.524597\n",
      "145 | 0.873287 2.397884 1.524597\n",
      "146 | 0.873287 2.397884 1.524597\n",
      "147 | 0.873287 2.397884 1.524597\n",
      "148 | 0.873287 2.397884 1.524597\n",
      "149 | 0.873287 2.397884 1.524597\n",
      "150 | 0.873288 2.397885 1.524597\n",
      "151 | 0.873288 2.397885 1.524597\n",
      "152 | 0.873288 2.397885 1.524597\n",
      "153 | 0.873288 2.397885 1.524597\n",
      "154 | 0.873289 2.397886 1.524597\n",
      "155 | 0.873289 2.397886 1.524597\n",
      "156 | 0.873289 2.397886 1.524597\n",
      "157 | 0.873289 2.397886 1.524597\n",
      "158 | 0.873289 2.397886 1.524597\n",
      "159 | 0.873289 2.397886 1.524597\n",
      "160 | 0.873289 2.397886 1.524597\n",
      "161 | 0.873289 2.397887 1.524597\n",
      "162 | 0.873290 2.397887 1.524597\n",
      "163 | 0.873290 2.397887 1.524597\n",
      "164 | 0.873290 2.397887 1.524597\n",
      "165 | 0.873290 2.397887 1.524597\n",
      "166 | 0.873290 2.397887 1.524597\n",
      "167 | 0.873290 2.397887 1.524597\n",
      "168 | 0.873290 2.397887 1.524597\n",
      "169 | 0.873291 2.397888 1.524597\n",
      "170 | 0.873291 2.397888 1.524597\n",
      "171 | 0.873291 2.397888 1.524597\n",
      "172 | 0.873291 2.397888 1.524597\n",
      "173 | 0.873291 2.397888 1.524597\n",
      "174 | 0.873291 2.397888 1.524597\n",
      "175 | 0.873291 2.397888 1.524597\n",
      "176 | 0.873291 2.397889 1.524597\n",
      "177 | 0.873292 2.397889 1.524597\n",
      "178 | 0.873291 2.397889 1.524597\n",
      "179 | 0.873292 2.397889 1.524597\n",
      "180 | 0.873292 2.397889 1.524597\n",
      "181 | 0.873292 2.397889 1.524597\n",
      "182 | 0.873292 2.397889 1.524597\n",
      "183 | 0.873292 2.397889 1.524597\n",
      "184 | 0.873292 2.397889 1.524597\n",
      "185 | 0.873292 2.397889 1.524597\n",
      "186 | 0.873292 2.397890 1.524597\n",
      "187 | 0.873293 2.397890 1.524597\n",
      "188 | 0.873293 2.397890 1.524597\n",
      "189 | 0.873293 2.397890 1.524597\n",
      "190 | 0.873293 2.397890 1.524597\n",
      "191 | 0.873293 2.397890 1.524597\n",
      "192 | 0.873293 2.397890 1.524597\n",
      "193 | 0.873293 2.397890 1.524597\n",
      "194 | 0.873293 2.397890 1.524597\n",
      "195 | 0.873293 2.397890 1.524597\n",
      "196 | 0.873294 2.397891 1.524597\n",
      "197 | 0.873294 2.397891 1.524597\n",
      "198 | 0.873294 2.397891 1.524597\n",
      "199 | 0.873294 2.397891 1.524597\n"
     ]
    }
   ],
   "source": [
    "net = ReduNetVector(num_classes, data_dim, num_layers=num_layers, eta=eta, eps=eps)\n",
    "Z_train = net.init(X_train, y_train)"
   ]
  },
  {
   "cell_type": "markdown",
   "metadata": {},
   "source": [
    "### Training"
   ]
  },
  {
   "cell_type": "markdown",
   "metadata": {},
   "source": [
    "Finally, we plot our loss, inputs and outputs for visualization. "
   ]
  },
  {
   "cell_type": "code",
   "execution_count": 7,
   "metadata": {
    "scrolled": false
   },
   "outputs": [
    {
     "data": {
      "image/png": "[encoded data removed]",
      "text/plain": [
       "<Figure size 504x360 with 1 Axes>"
      ]
     },
     "metadata": {
      "needs_background": "light"
     },
     "output_type": "display_data"
    }
   ],
   "source": [
    "ue.plot_loss_mcr(net.get_loss())"
   ]
  },
  {
   "cell_type": "markdown",
   "metadata": {},
   "source": [
    "Visualing our training data and representations"
   ]
  },
  {
   "cell_type": "code",
   "execution_count": 8,
   "metadata": {},
   "outputs": [
    {
     "data": {
      "image/png": "[encoded data removed]",
      "text/plain": [
       "<Figure size 576x288 with 2 Axes>"
      ]
     },
     "metadata": {
      "needs_background": "light"
     },
     "output_type": "display_data"
    }
   ],
   "source": [
    "ue.plot_2d(X_train, y_train, Z_train) "
   ]
  },
  {
   "cell_type": "markdown",
   "metadata": {},
   "source": [
    "### Testing\n",
    "\n",
    "Now that the network is constructed and trained, we can compute representations of our test data. "
   ]
  },
  {
   "cell_type": "code",
   "execution_count": 9,
   "metadata": {
    "scrolled": true
   },
   "outputs": [
    {
     "name": "stdout",
     "output_type": "stream",
     "text": [
      "0 | 0.823723 2.397693 1.573970\n",
      "1 | 0.857446 2.397743 1.540298\n",
      "2 | 0.874537 2.397799 1.523262\n",
      "3 | 0.873972 2.397736 1.523764\n",
      "4 | 0.873549 2.397815 1.524266\n",
      "5 | 0.873032 2.397726 1.524693\n",
      "6 | 0.872881 2.397825 1.524944\n",
      "7 | 0.872691 2.397725 1.525034\n",
      "8 | 0.872772 2.397829 1.525057\n",
      "9 | 0.872668 2.397730 1.525062\n",
      "10 | 0.872769 2.397832 1.525063\n",
      "11 | 0.872670 2.397734 1.525064\n",
      "12 | 0.872771 2.397835 1.525063\n",
      "13 | 0.872674 2.397738 1.525064\n",
      "14 | 0.872774 2.397837 1.525064\n",
      "15 | 0.872679 2.397742 1.525064\n",
      "16 | 0.872776 2.397840 1.525064\n",
      "17 | 0.872683 2.397746 1.525064\n",
      "18 | 0.872779 2.397842 1.525064\n",
      "19 | 0.872687 2.397750 1.525064\n",
      "20 | 0.872781 2.397844 1.525064\n",
      "21 | 0.872691 2.397754 1.525064\n",
      "22 | 0.872783 2.397847 1.525064\n",
      "23 | 0.872694 2.397758 1.525063\n",
      "24 | 0.872785 2.397849 1.525064\n",
      "25 | 0.872698 2.397761 1.525064\n",
      "26 | 0.872787 2.397851 1.525064\n",
      "27 | 0.872701 2.397765 1.525064\n",
      "28 | 0.872789 2.397853 1.525064\n",
      "29 | 0.872705 2.397768 1.525064\n",
      "30 | 0.872791 2.397855 1.525064\n",
      "31 | 0.872708 2.397771 1.525064\n",
      "32 | 0.872793 2.397856 1.525064\n",
      "33 | 0.872711 2.397775 1.525064\n",
      "34 | 0.872795 2.397858 1.525064\n",
      "35 | 0.872714 2.397778 1.525064\n",
      "36 | 0.872796 2.397860 1.525064\n",
      "37 | 0.872717 2.397781 1.525064\n",
      "38 | 0.872798 2.397861 1.525064\n",
      "39 | 0.872720 2.397783 1.525064\n",
      "40 | 0.872800 2.397863 1.525064\n",
      "41 | 0.872723 2.397786 1.525064\n",
      "42 | 0.872801 2.397865 1.525064\n",
      "43 | 0.872725 2.397789 1.525064\n",
      "44 | 0.872802 2.397866 1.525064\n",
      "45 | 0.872728 2.397792 1.525063\n",
      "46 | 0.872804 2.397867 1.525064\n",
      "47 | 0.872731 2.397794 1.525064\n",
      "48 | 0.872805 2.397869 1.525064\n",
      "49 | 0.872733 2.397797 1.525064\n",
      "50 | 0.872807 2.397870 1.525064\n",
      "51 | 0.872736 2.397799 1.525064\n",
      "52 | 0.872808 2.397871 1.525064\n",
      "53 | 0.872738 2.397802 1.525064\n",
      "54 | 0.872809 2.397872 1.525064\n",
      "55 | 0.872740 2.397804 1.525064\n",
      "56 | 0.872810 2.397873 1.525064\n",
      "57 | 0.872743 2.397806 1.525064\n",
      "58 | 0.872811 2.397875 1.525064\n",
      "59 | 0.872745 2.397808 1.525064\n",
      "60 | 0.872812 2.397876 1.525064\n",
      "61 | 0.872747 2.397810 1.525064\n",
      "62 | 0.872813 2.397877 1.525064\n",
      "63 | 0.872749 2.397812 1.525064\n",
      "64 | 0.872814 2.397878 1.525064\n",
      "65 | 0.872751 2.397815 1.525064\n",
      "66 | 0.872815 2.397878 1.525064\n",
      "67 | 0.872753 2.397816 1.525064\n",
      "68 | 0.872816 2.397879 1.525064\n",
      "69 | 0.872755 2.397818 1.525064\n",
      "70 | 0.872816 2.397880 1.525064\n",
      "71 | 0.872756 2.397820 1.525064\n",
      "72 | 0.872817 2.397881 1.525064\n",
      "73 | 0.872758 2.397822 1.525064\n",
      "74 | 0.872818 2.397882 1.525064\n",
      "75 | 0.872760 2.397824 1.525064\n",
      "76 | 0.872819 2.397882 1.525064\n",
      "77 | 0.872762 2.397825 1.525064\n",
      "78 | 0.872820 2.397883 1.525064\n",
      "79 | 0.872763 2.397827 1.525064\n",
      "80 | 0.872820 2.397884 1.525064\n",
      "81 | 0.872765 2.397828 1.525064\n",
      "82 | 0.872821 2.397884 1.525064\n",
      "83 | 0.872766 2.397830 1.525064\n",
      "84 | 0.872822 2.397885 1.525064\n",
      "85 | 0.872768 2.397831 1.525064\n",
      "86 | 0.872822 2.397886 1.525064\n",
      "87 | 0.872769 2.397833 1.525064\n",
      "88 | 0.872823 2.397886 1.525064\n",
      "89 | 0.872771 2.397834 1.525064\n",
      "90 | 0.872823 2.397887 1.525064\n",
      "91 | 0.872772 2.397836 1.525064\n",
      "92 | 0.872824 2.397887 1.525064\n",
      "93 | 0.872774 2.397837 1.525064\n",
      "94 | 0.872824 2.397888 1.525064\n",
      "95 | 0.872775 2.397838 1.525064\n",
      "96 | 0.872825 2.397888 1.525064\n",
      "97 | 0.872776 2.397840 1.525064\n",
      "98 | 0.872825 2.397889 1.525064\n",
      "99 | 0.872777 2.397841 1.525064\n",
      "100 | 0.872826 2.397889 1.525063\n",
      "101 | 0.872779 2.397842 1.525064\n",
      "102 | 0.872826 2.397889 1.525064\n",
      "103 | 0.872780 2.397843 1.525064\n",
      "104 | 0.872826 2.397890 1.525064\n",
      "105 | 0.872781 2.397844 1.525064\n",
      "106 | 0.872827 2.397890 1.525064\n",
      "107 | 0.872782 2.397846 1.525064\n",
      "108 | 0.872827 2.397891 1.525064\n",
      "109 | 0.872783 2.397847 1.525064\n",
      "110 | 0.872827 2.397891 1.525064\n",
      "111 | 0.872784 2.397848 1.525064\n",
      "112 | 0.872828 2.397891 1.525064\n",
      "113 | 0.872785 2.397849 1.525064\n",
      "114 | 0.872828 2.397891 1.525064\n",
      "115 | 0.872786 2.397850 1.525064\n",
      "116 | 0.872828 2.397892 1.525064\n",
      "117 | 0.872787 2.397851 1.525064\n",
      "118 | 0.872828 2.397892 1.525064\n",
      "119 | 0.872788 2.397851 1.525064\n",
      "120 | 0.872829 2.397892 1.525064\n",
      "121 | 0.872789 2.397852 1.525064\n",
      "122 | 0.872829 2.397892 1.525064\n",
      "123 | 0.872790 2.397853 1.525064\n",
      "124 | 0.872829 2.397893 1.525064\n",
      "125 | 0.872791 2.397854 1.525064\n",
      "126 | 0.872829 2.397893 1.525064\n",
      "127 | 0.872792 2.397855 1.525064\n",
      "128 | 0.872830 2.397893 1.525064\n",
      "129 | 0.872792 2.397856 1.525064\n",
      "130 | 0.872830 2.397893 1.525064\n",
      "131 | 0.872793 2.397857 1.525064\n",
      "132 | 0.872830 2.397893 1.525064\n",
      "133 | 0.872794 2.397857 1.525064\n",
      "134 | 0.872830 2.397893 1.525064\n",
      "135 | 0.872795 2.397858 1.525064\n",
      "136 | 0.872830 2.397894 1.525064\n",
      "137 | 0.872795 2.397859 1.525064\n",
      "138 | 0.872830 2.397894 1.525064\n",
      "139 | 0.872796 2.397860 1.525064\n",
      "140 | 0.872831 2.397894 1.525064\n",
      "141 | 0.872797 2.397860 1.525064\n",
      "142 | 0.872831 2.397894 1.525064\n",
      "143 | 0.872797 2.397861 1.525064\n",
      "144 | 0.872831 2.397894 1.525064\n",
      "145 | 0.872798 2.397861 1.525064\n",
      "146 | 0.872831 2.397894 1.525064\n",
      "147 | 0.872799 2.397862 1.525064\n",
      "148 | 0.872831 2.397895 1.525064\n",
      "149 | 0.872799 2.397863 1.525064\n",
      "150 | 0.872831 2.397895 1.525064\n",
      "151 | 0.872800 2.397863 1.525064\n",
      "152 | 0.872831 2.397895 1.525064\n",
      "153 | 0.872801 2.397864 1.525064\n",
      "154 | 0.872831 2.397895 1.525064\n",
      "155 | 0.872801 2.397865 1.525064\n",
      "156 | 0.872831 2.397895 1.525064\n",
      "157 | 0.872802 2.397865 1.525064\n",
      "158 | 0.872831 2.397895 1.525064\n",
      "159 | 0.872802 2.397866 1.525064\n",
      "160 | 0.872832 2.397895 1.525064\n",
      "161 | 0.872803 2.397866 1.525064\n",
      "162 | 0.872832 2.397895 1.525064\n",
      "163 | 0.872803 2.397867 1.525064\n",
      "164 | 0.872831 2.397895 1.525064\n",
      "165 | 0.872804 2.397867 1.525064\n",
      "166 | 0.872832 2.397895 1.525064\n",
      "167 | 0.872804 2.397868 1.525064\n",
      "168 | 0.872831 2.397895 1.525064\n",
      "169 | 0.872805 2.397868 1.525064\n",
      "170 | 0.872832 2.397895 1.525064\n",
      "171 | 0.872805 2.397869 1.525064\n",
      "172 | 0.872832 2.397895 1.525064\n",
      "173 | 0.872805 2.397869 1.525064\n",
      "174 | 0.872832 2.397895 1.525064\n",
      "175 | 0.872806 2.397870 1.525064\n",
      "176 | 0.872832 2.397895 1.525064\n",
      "177 | 0.872807 2.397870 1.525063\n",
      "178 | 0.872832 2.397895 1.525064\n",
      "179 | 0.872807 2.397871 1.525064\n",
      "180 | 0.872832 2.397895 1.525064\n",
      "181 | 0.872808 2.397871 1.525064\n",
      "182 | 0.872832 2.397895 1.525064\n",
      "183 | 0.872808 2.397871 1.525064\n",
      "184 | 0.872832 2.397895 1.525064\n",
      "185 | 0.872808 2.397872 1.525064\n",
      "186 | 0.872832 2.397895 1.525064\n",
      "187 | 0.872808 2.397872 1.525064\n",
      "188 | 0.872832 2.397895 1.525064\n",
      "189 | 0.872809 2.397872 1.525064\n",
      "190 | 0.872832 2.397895 1.525064\n",
      "191 | 0.872809 2.397873 1.525064\n",
      "192 | 0.872832 2.397895 1.525064\n",
      "193 | 0.872810 2.397873 1.525064\n",
      "194 | 0.872832 2.397895 1.525064\n",
      "195 | 0.872810 2.397874 1.525064\n",
      "196 | 0.872832 2.397895 1.525064\n",
      "197 | 0.872810 2.397874 1.525064\n",
      "198 | 0.872832 2.397895 1.525064\n",
      "199 | 0.872811 2.397874 1.525064\n"
     ]
    }
   ],
   "source": [
    "Z_test = net(X_test).detach()"
   ]
  },
  {
   "cell_type": "markdown",
   "metadata": {},
   "source": [
    "And visualize its loss and outputs."
   ]
  },
  {
   "cell_type": "code",
   "execution_count": 10,
   "metadata": {},
   "outputs": [
    {
     "data": {
      "image/png": "[encoded data removed]",
      "text/plain": [
       "<Figure size 504x360 with 1 Axes>"
      ]
     },
     "metadata": {
      "needs_background": "light"
     },
     "output_type": "display_data"
    },
    {
     "data": {
      "image/png": "[encoded data removed]",
      "text/plain": [
       "<Figure size 576x288 with 2 Axes>"
      ]
     },
     "metadata": {
      "needs_background": "light"
     },
     "output_type": "display_data"
    }
   ],
   "source": [
    "ue.plot_loss_mcr(net.get_loss())\n",
    "ue.plot_2d(X_test, y_test, Z_test)"
   ]
  }
 ],
 "metadata": {
  "kernelspec": {
   "display_name": "redunet",
   "language": "python",
   "name": "redunet"
  },
  "language_info": {
   "codemirror_mode": {
    "name": "ipython",
    "version": 3
   },
   "file_extension": ".py",
   "mimetype": "text/x-python",
   "name": "python",
   "nbconvert_exporter": "python",
   "pygments_lexer": "ipython3",
   "version": "3.7.9"
  },
  "latex_envs": {
   "LaTeX_envs_menu_present": true,
   "autoclose": false,
   "autocomplete": true,
   "bibliofile": "biblio.bib",
   "cite_by": "apalike",
   "current_citInitial": 1,
   "eqLabelWithNumbers": true,
   "eqNumInitial": 1,
   "hotkeys": {
    "equation": "Ctrl-E",
    "itemize": "Ctrl-I"
   },
   "labels_anchors": false,
   "latex_user_defs": false,
   "report_style_numbering": false,
   "user_envs_cfg": false
  }
 },
 "nbformat": 4,
 "nbformat_minor": 2
}
