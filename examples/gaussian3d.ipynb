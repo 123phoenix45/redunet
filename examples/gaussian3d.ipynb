{
 "cells": [
  {
   "cell_type": "code",
   "execution_count": null,
   "metadata": {},
   "outputs": [],
   "source": [
    "import os\n",
    "os.chdir('../')"
   ]
  },
  {
   "cell_type": "code",
   "execution_count": null,
   "metadata": {},
   "outputs": [],
   "source": [
    "from redunet import ReduNetVector\n",
    "import utils_example as ue"
   ]
  },
  {
   "cell_type": "markdown",
   "metadata": {},
   "source": [
    "# Packages\n",
    "To install the required packages, run \n",
    "```\n",
    "conda create --name redunet --file requirements.txt\n",
    "```"
   ]
  },
  {
   "cell_type": "markdown",
   "metadata": {},
   "source": [
    "## Hyperparameters\n",
    "\n",
    "We first set the hyperparameters for our data:\n",
    "- `data_dim`: dimension of the data\n",
    "- `dataset`: choice of dataset (any option 1-8)\n",
    "- `train_noise`: scale of gaussian noise added to training data\n",
    "- `test_noise`: scale of gaussian noise added to testing data\n",
    "- `train_samples`: number of training samples\n",
    "- `test_samples`: number of testing samples"
   ]
  },
  {
   "cell_type": "code",
   "execution_count": null,
   "metadata": {},
   "outputs": [],
   "source": [
    "dataset = 1  # can be 1 to 8\n",
    "data_dim = 3\n",
    "train_noise = 0.1\n",
    "test_noise = 0.1\n",
    "train_samples = 100\n",
    "test_samples = 100"
   ]
  },
  {
   "cell_type": "markdown",
   "metadata": {},
   "source": [
    "Then for ReduNet:\n",
    "- `num_layers`: number of layers\n",
    "- `eta`: step size $\\eta$\n",
    "- `eps`: distortion $\\epsilon^2$"
   ]
  },
  {
   "cell_type": "code",
   "execution_count": null,
   "metadata": {},
   "outputs": [],
   "source": [
    "num_layers = 200  # number of redunet layers\n",
    "eta = 0.5\n",
    "eps = 0.1\n",
    "lmbda = 200"
   ]
  },
  {
   "cell_type": "markdown",
   "metadata": {},
   "source": [
    "## Data"
   ]
  },
  {
   "cell_type": "markdown",
   "metadata": {},
   "source": [
    "Using `generate_3d(.)` function, we sample training and testing data from a Gaussian distribution. We also preprocess the data by normalizing them with $\\ell^2$ norm. \n",
    "\n",
    "Our input has dimensions:\n",
    "\n",
    "-`X_train`: shape: `(train_samples, data_dim)` <br>\n",
    "-`y_train`: shape: `(train_samples,)`"
   ]
  },
  {
   "cell_type": "code",
   "execution_count": null,
   "metadata": {
    "scrolled": true
   },
   "outputs": [],
   "source": [
    "X_train, y_train, num_classes = ue.generate_3d(dataset, train_noise, train_samples) # train\n",
    "X_test, y_test, num_classes = ue.generate_3d(dataset, test_noise, test_samples) # test"
   ]
  },
  {
   "cell_type": "code",
   "execution_count": null,
   "metadata": {},
   "outputs": [],
   "source": [
    "X_train[:3], y_train[:3]"
   ]
  },
  {
   "cell_type": "markdown",
   "metadata": {},
   "source": [
    "## Model\n",
    "\n",
    "We then initialize our network by running `init` method, which takes in training data `X_train` and labels `y_train`. It also outputs the representations `Z_train`. While constructing, our network also computes the `total_loss`, `discrimn_loss` and `compress_loss`. Please refer to our paper for its formulation. "
   ]
  },
  {
   "cell_type": "code",
   "execution_count": null,
   "metadata": {},
   "outputs": [],
   "source": [
    "net = ReduNetVector(num_classes, data_dim, num_layers=num_layers, eta=eta, eps=eps)\n",
    "Z_train = net.init(X_train, y_train)"
   ]
  },
  {
   "cell_type": "markdown",
   "metadata": {},
   "source": [
    "## Training"
   ]
  },
  {
   "cell_type": "code",
   "execution_count": null,
   "metadata": {
    "scrolled": false
   },
   "outputs": [],
   "source": [
    "ue.plot_loss_mcr(net.get_loss())\n",
    "ue.plot_3d(X_train, y_train, 'X_train') \n",
    "ue.plot_3d(Z_train, y_train, 'Z_train') "
   ]
  },
  {
   "cell_type": "markdown",
   "metadata": {},
   "source": [
    "## Testing"
   ]
  },
  {
   "cell_type": "code",
   "execution_count": null,
   "metadata": {
    "scrolled": false
   },
   "outputs": [],
   "source": [
    "Z_test = net(X_test).detach()\n",
    "ue.plot_3d(X_test, y_test, 'X_test')\n",
    "ue.plot_3d(Z_test, y_test, 'Z_test')"
   ]
  },
  {
   "cell_type": "code",
   "execution_count": null,
   "metadata": {},
   "outputs": [],
   "source": []
  },
  {
   "cell_type": "code",
   "execution_count": null,
   "metadata": {},
   "outputs": [],
   "source": []
  },
  {
   "cell_type": "code",
   "execution_count": null,
   "metadata": {},
   "outputs": [],
   "source": []
  },
  {
   "cell_type": "code",
   "execution_count": null,
   "metadata": {},
   "outputs": [],
   "source": [
    "!pip3 install redunet"
   ]
  },
  {
   "cell_type": "code",
   "execution_count": 1,
   "metadata": {},
   "outputs": [
    {
     "ename": "ModuleNotFoundError",
     "evalue": "No module named 'redunet'",
     "output_type": "error",
     "traceback": [
      "\u001b[0;31m---------------------------------------------------------------------------\u001b[0m",
      "\u001b[0;31mModuleNotFoundError\u001b[0m                       Traceback (most recent call last)",
      "\u001b[0;32m<ipython-input-1-671ee012c800>\u001b[0m in \u001b[0;36m<module>\u001b[0;34m\u001b[0m\n\u001b[0;32m----> 1\u001b[0;31m \u001b[0;32mfrom\u001b[0m \u001b[0mredunet\u001b[0m \u001b[0;32mimport\u001b[0m \u001b[0mReduNetVector\u001b[0m\u001b[0;34m\u001b[0m\u001b[0;34m\u001b[0m\u001b[0m\n\u001b[0m",
      "\u001b[0;31mModuleNotFoundError\u001b[0m: No module named 'redunet'"
     ]
    }
   ],
   "source": [
    "from redunet import ReduNetVector"
   ]
  },
  {
   "cell_type": "code",
   "execution_count": null,
   "metadata": {},
   "outputs": [],
   "source": []
  }
 ],
 "metadata": {
  "kernelspec": {
   "display_name": "redunet",
   "language": "python",
   "name": "redunet"
  },
  "language_info": {
   "codemirror_mode": {
    "name": "ipython",
    "version": 3
   },
   "file_extension": ".py",
   "mimetype": "text/x-python",
   "name": "python",
   "nbconvert_exporter": "python",
   "pygments_lexer": "ipython3",
   "version": "3.7.9"
  },
  "latex_envs": {
   "LaTeX_envs_menu_present": true,
   "autoclose": false,
   "autocomplete": true,
   "bibliofile": "biblio.bib",
   "cite_by": "apalike",
   "current_citInitial": 1,
   "eqLabelWithNumbers": true,
   "eqNumInitial": 1,
   "hotkeys": {
    "equation": "Ctrl-E",
    "itemize": "Ctrl-I"
   },
   "labels_anchors": false,
   "latex_user_defs": false,
   "report_style_numbering": false,
   "user_envs_cfg": false
  }
 },
 "nbformat": 4,
 "nbformat_minor": 2
}
